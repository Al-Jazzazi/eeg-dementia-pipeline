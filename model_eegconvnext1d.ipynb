{
 "cells": [
  {
   "cell_type": "markdown",
   "metadata": {
    "id": "2O4Yf-IoK0js"
   },
   "source": [
    "# Import"
   ]
  },
  {
   "cell_type": "code",
   "execution_count": null,
   "metadata": {
    "colab": {
     "base_uri": "https://localhost:8080/"
    },
    "id": "61sxPLo3L5Ac",
    "outputId": "f9ae170a-5b95-4fd7-9ccb-a2ec0f87b1d1"
   },
   "outputs": [],
   "source": [
    "!git init\n",
    "!git pull https://github.com/terka2610/alz_det_ML.git"
   ]
  },
  {
   "cell_type": "code",
   "execution_count": null,
   "metadata": {
    "colab": {
     "base_uri": "https://localhost:8080/"
    },
    "id": "SZbCfbMzL4L7",
    "outputId": "008aa97e-79ac-44cc-9ea1-77b099d006cb"
   },
   "outputs": [],
   "source": [
    "!pip install PyWavelets\n",
    "!pip install mne\n",
    "!pip install optuna\n",
    "!pip install torchviz\n",
    "!pip install pyprep"
   ]
  },
  {
   "cell_type": "code",
   "execution_count": null,
   "metadata": {
    "id": "kqS6KVS9K0jo"
   },
   "outputs": [],
   "source": [
    "import numpy as np\n",
    "import pandas as pd\n",
    "import json\n",
    "import os\n",
    "import mne\n",
    "import optuna\n",
    "\n",
    "\n",
    "from sklearn.preprocessing import LabelEncoder, label_binarize\n",
    "from sklearn.metrics import classification_report, accuracy_score, roc_curve, auc\n",
    "\n",
    "import torch\n",
    "import torch.nn as nn\n",
    "import torch.nn.functional as F\n",
    "import torch.optim as optim\n",
    "from torch.utils.data import TensorDataset, DataLoader\n",
    "import time # To measure time\n",
    "\n",
    "\n",
    "import matplotlib.pyplot as plt"
   ]
  },
  {
   "cell_type": "code",
   "execution_count": 2,
   "metadata": {
    "id": "fiQT6hxkK0jt"
   },
   "outputs": [],
   "source": [
    "def read_json_dicts (file_path):\n",
    "    with open(file_path, 'r', encoding='utf-8') as f:\n",
    "        data_dict = json.load(f)\n",
    "    return pd.DataFrame(data_dict)\n",
    "\n",
    "def collect_eeg_data(folder_path):\n",
    "    data = {}\n",
    "    for filename in os.listdir(folder_path):\n",
    "        if filename.endswith(\".set\"):\n",
    "            file_path = os.path.join(folder_path, filename)\n",
    "            raw = mne.io.read_raw_eeglab(file_path, preload=True)\n",
    "            data[filename] = raw.get_data()\n",
    "\n",
    "    return data"
   ]
  },
  {
   "cell_type": "markdown",
   "metadata": {
    "id": "EY_VTif5K0jx"
   },
   "source": [
    "## Model charya et al., 2025"
   ]
  },
  {
   "cell_type": "code",
   "execution_count": 3,
   "metadata": {
    "id": "76XoNKuqsnln"
   },
   "outputs": [],
   "source": [
    "\n",
    "\n",
    "class ConvNeXt1DBlock(nn.Module):\n",
    "    def __init__(self, dim, drop_p=0.):\n",
    "        super().__init__()\n",
    "        # Depthwise convolution (applied independently to each channel)\n",
    "        self.dwconv = nn.Conv1d(dim, dim, kernel_size=7, padding=3, groups=dim)\n",
    "        self.norm = nn.LayerNorm(dim, eps=1e-6) # LayerNorm applied on the channel dimension\n",
    "        # Pointwise convolutions (expand and contract channels)\n",
    "        self.pwconv1 = nn.Linear(dim, 4 * dim) # Equivalent to 1x1 Conv for channel expansion\n",
    "        self.act = nn.LeakyReLU(negative_slope=0.01)  # Change GELU to LeakyReLU\n",
    "        self.pwconv2 = nn.Linear(4 * dim, dim) # Equivalent to 1x1 Conv for channel contraction\n",
    "        self.drop_p = drop_p\n",
    "        if self.drop_p > 0.0:\n",
    "            self.dropout = nn.Dropout(drop_p)\n",
    "\n",
    "    def forward(self, x):\n",
    "        input = x\n",
    "        x = self.dwconv(x)\n",
    "        x = x.permute(0, 2, 1)  # (batch_size, timesteps, channels)\n",
    "        x = self.norm(x)\n",
    "        x = self.pwconv1(x)\n",
    "        x = self.act(x)\n",
    "        x = self.pwconv2(x)\n",
    "        x = x.permute(0, 2, 1)  # (batch_size, channels, timesteps)\n",
    "        if self.drop_p > 0.0:\n",
    "            x = self.dropout(x)\n",
    "        x = input + x\n",
    "        return x\n",
    "\n",
    "class EEGConvNeXt_1D(nn.Module):\n",
    "    def __init__(self, n_channels, n_timesteps, num_classes,\n",
    "                 depths=[1, 1, 2, 1], dims=[96, 192, 384, 768], dropout_rate=0.5):\n",
    "        super().__init__()\n",
    "\n",
    "        self.n_timesteps = n_timesteps\n",
    "        stem_kernel_size = 4\n",
    "        stem_stride = 4\n",
    "        self.stem = nn.Sequential(\n",
    "            nn.Conv1d(n_channels, dims[0], kernel_size=stem_kernel_size, stride=stem_stride),\n",
    "            nn.BatchNorm1d(dims[0]),  # Added BatchNorm after the first convolution\n",
    "            nn.LeakyReLU(negative_slope=0.01),  # Added LeakyReLU after stem\n",
    "        )\n",
    "        current_timesteps = (n_timesteps - stem_kernel_size) // stem_stride + 1\n",
    "\n",
    "        self.stages = nn.ModuleList()\n",
    "        for i in range(4):  # 4 stages\n",
    "            if i > 0:\n",
    "                downsample_layer = nn.Sequential(\n",
    "                    nn.BatchNorm1d(dims[i-1]),  # Added BatchNorm\n",
    "                    nn.Conv1d(dims[i-1], dims[i], kernel_size=2, stride=2),\n",
    "                    nn.LeakyReLU(negative_slope=0.01),  # LeakyReLU for better gradient flow\n",
    "                )\n",
    "                self.stages.append(downsample_layer)\n",
    "                current_timesteps = (current_timesteps - 2) // 2 + 1\n",
    "\n",
    "            stage_blocks = nn.Sequential(\n",
    "                *[ConvNeXt1DBlock(dim=dims[i], drop_p=dropout_rate) for _ in range(depths[i])]\n",
    "            )\n",
    "            self.stages.append(stage_blocks)\n",
    "\n",
    "        self.norm_out = nn.LayerNorm(dims[-1], eps=1e-6)\n",
    "        self.avgpool = nn.AdaptiveAvgPool1d(1)\n",
    "        self.head = nn.Linear(dims[-1], num_classes)\n",
    "\n",
    "    def forward(self, x):\n",
    "        x = self.stem(x)\n",
    "        for stage_module in self.stages:\n",
    "            x = stage_module(x)\n",
    "        x = x.permute(0, 2, 1)\n",
    "        x = self.norm_out(x)\n",
    "        x = x.permute(0, 2, 1)\n",
    "        x = self.avgpool(x)\n",
    "        x = torch.flatten(x, 1)\n",
    "        x = self.head(x)\n",
    "        return x\n"
   ]
  },
  {
   "cell_type": "markdown",
   "metadata": {
    "id": "y_LE7IO3K0jy"
   },
   "source": [
    "# Training"
   ]
  },
  {
   "cell_type": "code",
   "execution_count": 4,
   "metadata": {
    "id": "dqR8q61MK0jy"
   },
   "outputs": [],
   "source": [
    "# --- Modified Generic Training Function with Validation ---\n",
    "def train_model(model, train_loader, val_loader, criterion, optimizer, num_epochs, device):\n",
    "    \"\"\"\n",
    "    Generic function to train and validate a PyTorch model.\n",
    "\n",
    "    Args:\n",
    "        model (nn.Module): The PyTorch model to train.\n",
    "        train_loader (DataLoader): DataLoader for the training data.\n",
    "        val_loader (DataLoader or None): DataLoader for the validation data. If None, validation is skipped.\n",
    "        criterion (nn.Module): The loss function (e.g., nn.CrossEntropyLoss).\n",
    "        optimizer (Optimizer): The optimizer (e.g., optim.Adam).\n",
    "        num_epochs (int): Number of epochs to train for.\n",
    "        device (torch.device): The device to train on (CPU or CUDA).\n",
    "\n",
    "    Returns:\n",
    "        None: Prints training and validation progress information directly.\n",
    "    \"\"\"\n",
    "    model.to(device) # Move model to the designated device\n",
    "    total_train_steps = len(train_loader)\n",
    "    if val_loader:\n",
    "        total_val_steps = len(val_loader)\n",
    "    start_time = time.time()\n",
    "\n",
    "    print(f\"\\n--- Training {model.__class__.__name__} ---\")\n",
    "\n",
    "    for epoch in range(num_epochs):\n",
    "        # --- Training Phase ---\n",
    "        model.train() # Set the model to training mode\n",
    "        epoch_train_loss = 0.0\n",
    "        train_correct_predictions = 0\n",
    "        train_total_samples = 0\n",
    "\n",
    "        for i, (inputs, labels) in enumerate(train_loader):\n",
    "            # Move data to the designated device\n",
    "            inputs = inputs.to(device)\n",
    "            labels = labels.to(device)\n",
    "\n",
    "            # Forward pass\n",
    "            outputs = model(inputs)\n",
    "            loss = criterion(outputs, labels)\n",
    "\n",
    "            # Backward pass and optimization\n",
    "            optimizer.zero_grad()\n",
    "            loss.backward()\n",
    "\n",
    "            torch.nn.utils.clip_grad_norm_(model.parameters(), max_norm=1.0)\n",
    "\n",
    "            optimizer.step()\n",
    "\n",
    "            # Accumulate training statistics\n",
    "            epoch_train_loss += loss.item()\n",
    "            _, predicted = torch.max(outputs.data, 1)\n",
    "            train_total_samples += labels.size(0)\n",
    "            train_correct_predictions += (predicted == labels).sum().item()\n",
    "\n",
    "\n",
    "\n",
    "        # Calculate average training loss and accuracy for the epoch\n",
    "        avg_epoch_train_loss = epoch_train_loss / total_train_steps\n",
    "        epoch_train_accuracy = 100 * train_correct_predictions / train_total_samples\n",
    "\n",
    "        # --- Validation Phase ---\n",
    "        if val_loader is not None:\n",
    "            model.eval() # Set the model to evaluation mode\n",
    "            epoch_val_loss = 0.0\n",
    "            val_correct_predictions = 0\n",
    "            val_total_samples = 0\n",
    "\n",
    "            with torch.no_grad(): # Disable gradient calculations during validation\n",
    "                for j, (val_inputs, val_labels) in enumerate(val_loader):\n",
    "                    # Move data to the designated device\n",
    "                    val_inputs = val_inputs.to(device)\n",
    "                    val_labels = val_labels.to(device)\n",
    "\n",
    "                    # Forward pass\n",
    "                    val_outputs = model(val_inputs)\n",
    "                    val_loss_batch = criterion(val_outputs, val_labels)\n",
    "\n",
    "                    # Accumulate validation statistics\n",
    "                    epoch_val_loss += val_loss_batch.item()\n",
    "\n",
    "                    _, val_predicted = torch.max(val_outputs.data, 1)\n",
    "                    # if j == 0:\n",
    "                      # print(val_predicted)\n",
    "                      # print(val_outputs)\n",
    "                    val_total_samples += val_labels.size(0)\n",
    "                    val_correct_predictions += (val_predicted == val_labels).sum().item()\n",
    "\n",
    "            # Calculate average validation loss and accuracy for the epoch\n",
    "            avg_epoch_val_loss = epoch_val_loss / total_val_steps\n",
    "            epoch_val_accuracy = 100 * val_correct_predictions / val_total_samples\n",
    "\n",
    "            # Print combined epoch results\n",
    "            print(f'Epoch [{epoch+1}/{num_epochs}], '\n",
    "                  f'Train Loss: {avg_epoch_train_loss:.4f}, Train Acc: {epoch_train_accuracy:.2f}%, '\n",
    "                  f'Val Loss: {avg_epoch_val_loss:.4f}, Val Acc: {epoch_val_accuracy:.2f}%')\n",
    "        else:\n",
    "            # Print only training results if no validation loader is provided\n",
    "            print(f'Epoch [{epoch+1}/{num_epochs}], '\n",
    "                  f'Train Loss: {avg_epoch_train_loss:.4f}, Train Acc: {epoch_train_accuracy:.2f}%')\n",
    "\n",
    "        # Note: model is already set back to train() mode at the start of the next epoch loop iteration\n",
    "\n",
    "    end_time = time.time()\n",
    "    print(f\"Finished Training {model.__class__.__name__}. Total time: {end_time - start_time:.2f} seconds\")\n",
    "    # --- Consider saving the best model based on validation performance ---\n",
    "    # (Logic for tracking best val_accuracy/lowest val_loss and saving model state_dict would go here)"
   ]
  },
  {
   "cell_type": "markdown",
   "metadata": {
    "id": "Z84oEIa-K0jz"
   },
   "source": [
    "# Running"
   ]
  },
  {
   "cell_type": "markdown",
   "metadata": {
    "id": "7pp_dHeOK0jz"
   },
   "source": [
    "## Parameters"
   ]
  },
  {
   "cell_type": "code",
   "execution_count": 5,
   "metadata": {
    "id": "_Y8iuJaJK0jz"
   },
   "outputs": [],
   "source": [
    "n_samples = 100   # Number of samples (example)\n",
    "n_channels = 19  # Number of EEG channels (example)\n",
    "n_timesteps = 1425 # Number of time points (example, may need adjustment for models like ConvNeXt)\n",
    "num_classes = 3   # Number of classes\n",
    "batch_size = 16\n",
    "learning_rate = 0.01\n",
    "num_epochs = 100    # Number of epochs (example, usually needs more)"
   ]
  },
  {
   "cell_type": "markdown",
   "metadata": {
    "id": "v7GAKWO3K0jz"
   },
   "source": [
    "## Import the data"
   ]
  },
  {
   "cell_type": "code",
   "execution_count": 6,
   "metadata": {
    "colab": {
     "base_uri": "https://localhost:8080/"
    },
    "id": "Bh1s0VaNL4L9",
    "outputId": "2983dc21-357c-456e-fe31-d16c3169572b"
   },
   "outputs": [],
   "source": [
    "import warnings\n",
    "from sklearn.preprocessing import StandardScaler\n",
    "from sklearn.ensemble import RandomForestClassifier\n",
    "from sklearn.metrics import accuracy_score, precision_score, recall_score, f1_score, confusion_matrix\n",
    "\n",
    "# Ignore RuntimeWarning\n",
    "warnings.filterwarnings('ignore', category=RuntimeWarning)\n",
    "\n",
    "# Enable CUDA\n",
    "mne.utils.set_config('MNE_USE_CUDA', 'true')\n",
    "mne.cuda.init_cuda(verbose=False)  # Set to True for debugging"
   ]
  },
  {
   "cell_type": "code",
   "execution_count": 7,
   "metadata": {
    "colab": {
     "base_uri": "https://localhost:8080/"
    },
    "id": "MY7y9L_fmViM",
    "outputId": "e9fa2e78-f7ca-4f17-c38b-a3f3f27248fa"
   },
   "outputs": [
    {
     "name": "stdout",
     "output_type": "stream",
     "text": [
      "Loaded 898 total entries with labels\n"
     ]
    }
   ],
   "source": [
    "folder_path_test = './test'             # Located in same directory as script\n",
    "label_path = \"Labels_epochs.json\"\n",
    "\n",
    "def collect_eeg_data_and_labels(folder_path, label_json):\n",
    "    # 1) Load label map from JSON\n",
    "    with open(label_json, 'r') as f:\n",
    "        label_map = json.load(f)\n",
    "\n",
    "    data = {}\n",
    "    y = {}\n",
    "\n",
    "    # 2) Walk through .set files\n",
    "    for filename in os.listdir(folder_path):\n",
    "        if not filename.endswith(\".set\"):\n",
    "            continue\n",
    "\n",
    "        sub_id = os.path.splitext(filename)[0][0:7]    # e.g. \"sub-077\"\n",
    "        label = label_map.get(sub_id)\n",
    "        # print(sub_id)\n",
    "        if label is None:\n",
    "            # no label available\n",
    "            continue\n",
    "\n",
    "        # 3) Read EEG and store\n",
    "        raw = mne.io.read_raw_eeglab(os.path.join(folder_path, filename), preload=True)\n",
    "        data[filename] = raw.get_data()\n",
    "        y[filename]    = label\n",
    "\n",
    "    return data, y\n",
    "\n",
    "# Load everything\n",
    "data_original_test, y_test_aligned = collect_eeg_data_and_labels(folder_path_test, label_path)\n",
    "print(f\"Loaded {len(data_original_test)} total entries with labels\")\n",
    "\n",
    "\n",
    "\n",
    "y_test_aligned = [y_test_aligned[key] for key in data_original_test.keys()]\n",
    "y_test_aligned = np.array([y_test_aligned])\n",
    "\n",
    "X_test_aligned = [data_original_test[key] for key in data_original_test.keys()]\n",
    "X_test_aligned = np.array(X_test_aligned)\n",
    "\n",
    "\n"
   ]
  },
  {
   "cell_type": "code",
   "execution_count": 8,
   "metadata": {
    "colab": {
     "base_uri": "https://localhost:8080/"
    },
    "id": "x0K9uMzRPDmi",
    "outputId": "2b20c7c0-83b1-47cf-9041-95fbf1e533a3"
   },
   "outputs": [
    {
     "name": "stdout",
     "output_type": "stream",
     "text": [
      "\n",
      "--- Test Data ---\n",
      "Test samples: 898\n",
      "Test labels: 898\n",
      "Unique test labels:: ['A' 'C' 'F']\n"
     ]
    }
   ],
   "source": [
    "print(\"\\n--- Test Data ---\")\n",
    "print(f\"Test samples: {np.shape(X_test_aligned)[0]}\")\n",
    "print(f\"Test labels: {np.size(y_test_aligned)}\")\n",
    "print(f\"Unique test labels:: {np.unique(y_test_aligned)}\")"
   ]
  },
  {
   "cell_type": "code",
   "execution_count": 9,
   "metadata": {
    "colab": {
     "base_uri": "https://localhost:8080/"
    },
    "id": "p_bWqKI-L4L-",
    "outputId": "184b7a44-8823-4cf8-f6ad-6a101991d39f"
   },
   "outputs": [
    {
     "name": "stdout",
     "output_type": "stream",
     "text": [
      "Loaded 10644 total entries with labels\n",
      "\n",
      "--- train Data ---\n",
      "train samples: 288186300\n",
      "train labels: 10644\n",
      "Unique train labels: ['A' 'C' 'F']\n"
     ]
    }
   ],
   "source": [
    "folder_path_train = './train'             # Located in same directory as script\n",
    "label_path = \"Labels_epochs.json\"\n",
    "\n",
    "def collect_eeg_data_and_labels(folder_path, label_json):\n",
    "    # 1) Load label map from JSON\n",
    "    with open(label_json, 'r') as f:\n",
    "        label_map = json.load(f)\n",
    "\n",
    "    data = {}\n",
    "    y = {}\n",
    "\n",
    "    # 2) Walk through .set files\n",
    "    for filename in os.listdir(folder_path):\n",
    "        if not filename.endswith(\".set\"):\n",
    "            continue\n",
    "\n",
    "        sub_id = os.path.splitext(filename)[0][0:7]    # e.g. \"sub-077\"\n",
    "        label = label_map.get(sub_id)\n",
    "        # print(sub_id)\n",
    "        if label is None:\n",
    "            # no label available\n",
    "            continue\n",
    "\n",
    "        # 3) Read EEG and store\n",
    "        raw = mne.io.read_raw_eeglab(os.path.join(folder_path, filename), preload=True)\n",
    "        data[filename] = raw.get_data()\n",
    "        y[filename]    = label\n",
    "\n",
    "    return data, y\n",
    "\n",
    "# Load everything\n",
    "data_original_train, y_train_aligned = collect_eeg_data_and_labels(folder_path_train, label_path)\n",
    "print(f\"Loaded {len(data_original_train)} total entries with labels\")\n",
    "\n",
    "\n",
    "\n",
    "y_train_aligned = [y_train_aligned[key] for key in data_original_train.keys()]\n",
    "y_train_aligned = np.array([y_train_aligned])\n",
    "\n",
    "X_train_aligned = [data_original_train[key] for key in data_original_train.keys()]\n",
    "X_train_aligned = np.array(X_train_aligned)\n",
    "\n",
    "\n",
    "print(\"\\n--- train Data ---\")\n",
    "print(f\"train samples: {np.size(X_train_aligned)}\")\n",
    "print(f\"train labels: {np.size(y_train_aligned)}\")\n",
    "print(f\"Unique train labels: {np.unique(y_train_aligned)}\")"
   ]
  },
  {
   "cell_type": "code",
   "execution_count": 10,
   "metadata": {
    "colab": {
     "base_uri": "https://localhost:8080/"
    },
    "id": "bXws33-GL4L-",
    "outputId": "4251ea80-cd23-46b4-bd9a-7c32f63f9698"
   },
   "outputs": [
    {
     "name": "stdout",
     "output_type": "stream",
     "text": [
      "(19, 1425)\n"
     ]
    }
   ],
   "source": [
    "print(data_original_test[\"sub-071_eeg_chunk_3.set\"].shape)"
   ]
  },
  {
   "cell_type": "code",
   "execution_count": 11,
   "metadata": {
    "colab": {
     "base_uri": "https://localhost:8080/"
    },
    "id": "67t9xFMIL4L-",
    "outputId": "5928b973-a178-4618-ae8c-5e9ff8a1c623"
   },
   "outputs": [
    {
     "name": "stdout",
     "output_type": "stream",
     "text": [
      "Loaded 877 total entries with labels\n",
      "\n",
      "--- val Data ---\n",
      "val samples: 877\n",
      "val labels: 877\n",
      "Unique val labels: ['A' 'C' 'F']\n"
     ]
    }
   ],
   "source": [
    "folder_path_validate = './validate'             # Located in same directory as script\n",
    "label_path = \"Labels_epochs.json\"\n",
    "\n",
    "def collect_eeg_data_and_labels(folder_path, label_json):\n",
    "    # 1) Load label map from JSON\n",
    "    with open(label_json, 'r') as f:\n",
    "        label_map = json.load(f)\n",
    "\n",
    "    data = {}\n",
    "    y = {}\n",
    "\n",
    "    # 2) Walk through .set files\n",
    "    for filename in os.listdir(folder_path):\n",
    "        if not filename.endswith(\".set\"):\n",
    "            continue\n",
    "\n",
    "        sub_id = os.path.splitext(filename)[0][0:7]    # e.g. \"sub-077\"\n",
    "        label = label_map.get(sub_id)\n",
    "        # print(sub_id)\n",
    "        if label is None:\n",
    "            # no label available\n",
    "            continue\n",
    "\n",
    "        # 3) Read EEG and store\n",
    "        raw = mne.io.read_raw_eeglab(os.path.join(folder_path, filename), preload=True)\n",
    "        data[filename] = raw.get_data()\n",
    "        y[filename]    = label\n",
    "\n",
    "    return data, y\n",
    "\n",
    "# Load everything\n",
    "data_original_val, y_val_aligned = collect_eeg_data_and_labels(folder_path_validate, label_path)\n",
    "print(f\"Loaded {len(data_original_val)} total entries with labels\")\n",
    "\n",
    "\n",
    "\n",
    "y_val_aligned = [y_val_aligned[key] for key in data_original_val.keys()]\n",
    "y_val_aligned = np.array([y_val_aligned])\n",
    "\n",
    "X_val_aligned = [data_original_val[key] for key in data_original_val.keys()]\n",
    "X_val_aligned = np.array(X_val_aligned)\n",
    "\n",
    "\n",
    "print(\"\\n--- val Data ---\")\n",
    "print(f\"val samples: {np.shape(X_val_aligned)[0]}\")\n",
    "print(f\"val labels: {np.size(y_val_aligned)}\")\n",
    "print(f\"Unique val labels: {np.unique(y_val_aligned)}\")"
   ]
  },
  {
   "cell_type": "code",
   "execution_count": 12,
   "metadata": {
    "id": "4e0kXfwQnFo9"
   },
   "outputs": [],
   "source": [
    "\n",
    "def normalize_eeg_data(data):\n",
    "    \"\"\"\n",
    "    Normalize EEG data such that each channel in each sample has zero mean and unit variance.\n",
    "\n",
    "    Args:\n",
    "    - data (numpy.ndarray): EEG data with shape (n_samples, n_channels, n_timesteps)\n",
    "\n",
    "    Returns:\n",
    "    - normalized_data (numpy.ndarray): Normalized EEG data\n",
    "    \"\"\"\n",
    "    # Check the shape of the data\n",
    "    assert len(data.shape) == 3, \"Input data must have 3 dimensions (n_samples, n_channels, n_timesteps)\"\n",
    "\n",
    "    # Normalize along the time dimension (axis=2) for each channel and each sample\n",
    "    mean = np.mean(data, axis=2, keepdims=True)  # Mean along time axis (for each channel, per sample)\n",
    "    std = np.std(data, axis=2, keepdims=True)  # Standard deviation along time axis (for each channel, per sample)\n",
    "\n",
    "    normalized_data = (data - mean) / std  # Normalize each channel across time\n",
    "\n",
    "    return normalized_data"
   ]
  },
  {
   "cell_type": "markdown",
   "metadata": {
    "id": "gE0CFDcOK0j0"
   },
   "source": [
    "## Preprocessing"
   ]
  },
  {
   "cell_type": "code",
   "execution_count": 13,
   "metadata": {
    "colab": {
     "base_uri": "https://localhost:8080/"
    },
    "id": "h4dVsjb6K0j1",
    "outputId": "c5b526ea-2adb-401d-8f86-e190d66b2634"
   },
   "outputs": [
    {
     "name": "stdout",
     "output_type": "stream",
     "text": [
      "\n",
      "--- Converting Processed Data to PyTorch Tensors ---\n",
      "LabelEncoder classes found: [np.str_('A'), np.str_('C'), np.str_('F')] -> mapped to indices 0-2\n",
      "Tensor shapes: X_train=torch.Size([10644, 19, 1425]), y_train=torch.Size([10644]) (torch.int64)\n",
      "Tensor shapes: X_val=torch.Size([877, 19, 1425]), y_val=torch.Size([877]) (torch.int64)\n",
      "Tensor shapes: X_test=torch.Size([898, 19, 1425]), y_test=torch.Size([898]) (torch.int64)\n"
     ]
    }
   ],
   "source": [
    "\n",
    "import torch\n",
    "import numpy as np\n",
    "from sklearn.preprocessing import LabelEncoder\n",
    "\n",
    "print(\"\\n--- Converting Processed Data to PyTorch Tensors ---\")\n",
    "\n",
    "\n",
    "## normalize\n",
    "\n",
    "X_val_norm = normalize_eeg_data(X_val_aligned)\n",
    "\n",
    "\n",
    "X_train_norm = normalize_eeg_data(X_train_aligned)\n",
    "\n",
    "X_test_norm = normalize_eeg_data(X_test_aligned)\n",
    "\n",
    "# # --- Convert X data ---\n",
    "\n",
    "if np.size(X_train_aligned) > 0:\n",
    "    X_train_tensor = torch.from_numpy(X_train_norm).float()\n",
    "\n",
    "if np.size(X_val_aligned) > 0:\n",
    "    X_val_tensor = torch.from_numpy(X_val_norm).float()\n",
    "\n",
    "\n",
    "if np.size(X_test_aligned) > 0:\n",
    "    X_test_tensor = torch.from_numpy(X_test_norm).float()\n",
    "\n",
    "# --- Convert Y labels (LabelEncoder for CrossEntropyLoss) ---\n",
    "label_encoder = LabelEncoder()\n",
    "y_train_flat = y_train_aligned.flatten()\n",
    "y_val_flat   = y_val_aligned.flatten()\n",
    "y_test_flat  = y_test_aligned.flatten()\n",
    "\n",
    "all_labels = np.concatenate([\n",
    "    y_train_flat,\n",
    "    y_val_flat,\n",
    "    y_test_flat\n",
    "])\n",
    "label_encoder.fit(all_labels)  # Fit on all available labels\n",
    "\n",
    "num_classes_actual = len(label_encoder.classes_)\n",
    "print(f\"LabelEncoder classes found: {list(label_encoder.classes_)} -> mapped to indices 0-{num_classes_actual - 1}\")\n",
    "\n",
    "# Encode each label split\n",
    "y_train_indices = label_encoder.transform(y_train_flat)\n",
    "y_val_indices = label_encoder.transform(y_val_flat)\n",
    "y_test_indices = label_encoder.transform(y_test_flat)\n",
    "\n",
    "# Convert to LongTensor for CrossEntropyLoss\n",
    "y_train_tensor = torch.tensor(y_train_indices, dtype=torch.long)\n",
    "y_val_tensor = torch.tensor(y_val_indices, dtype=torch.long)\n",
    "y_test_tensor = torch.tensor(y_test_indices, dtype=torch.long)\n",
    "\n",
    "# --- Summary Output ---\n",
    "print(f\"Tensor shapes: X_train={X_train_tensor.shape}, y_train={y_train_tensor.shape} ({y_train_tensor.dtype})\")\n",
    "if X_val_tensor.numel() > 0:\n",
    "    print(f\"Tensor shapes: X_val={X_val_tensor.shape}, y_val={y_val_tensor.shape} ({y_val_tensor.dtype})\")\n",
    "if X_test_tensor.numel() > 0:\n",
    "    print(f\"Tensor shapes: X_test={X_test_tensor.shape}, y_test={y_test_tensor.shape} ({y_test_tensor.dtype})\")\n",
    "\n",
    "\n"
   ]
  },
  {
   "cell_type": "code",
   "execution_count": 14,
   "metadata": {
    "colab": {
     "base_uri": "https://localhost:8080/"
    },
    "id": "kbXokzUGiAkR",
    "outputId": "796ee34f-3d11-4797-adb4-1bdf7bf6f585"
   },
   "outputs": [
    {
     "data": {
      "text/plain": [
       "(898, 19, 1425)"
      ]
     },
     "execution_count": 14,
     "metadata": {},
     "output_type": "execute_result"
    }
   ],
   "source": [
    "X_test_aligned.shape"
   ]
  },
  {
   "cell_type": "code",
   "execution_count": 15,
   "metadata": {
    "colab": {
     "base_uri": "https://localhost:8080/"
    },
    "id": "-QOH6KZ_K0j1",
    "outputId": "58c0dba8-ea41-4017-b4df-05138c80bc35"
   },
   "outputs": [
    {
     "name": "stdout",
     "output_type": "stream",
     "text": [
      "\n",
      "--- Creating DataLoaders ---\n",
      "DataLoaders created.\n"
     ]
    }
   ],
   "source": [
    "\n",
    "print(\"\\n--- Creating DataLoaders ---\")\n",
    "\n",
    "# --- Train Loader ---\n",
    "train_dataset = TensorDataset(X_train_tensor, y_train_tensor)\n",
    "train_loader = DataLoader(dataset=train_dataset, batch_size=batch_size, shuffle=True)\n",
    "\n",
    "# --- Validation Loader ---\n",
    "val_loader = None\n",
    "if X_val_tensor.shape[0] > 0:\n",
    "    val_dataset = TensorDataset(X_val_tensor, y_val_tensor)\n",
    "    val_loader = DataLoader(dataset=val_dataset, batch_size=batch_size, shuffle=False)\n",
    "\n",
    "# --- Test Loader ---\n",
    "test_loader = None\n",
    "if X_test_tensor.shape[0] > 0:\n",
    "    test_dataset = TensorDataset(X_test_tensor, y_test_tensor)\n",
    "    test_loader = DataLoader(dataset=test_dataset, batch_size=batch_size, shuffle=False)\n",
    "\n",
    "print(\"DataLoaders created.\")\n"
   ]
  },
  {
   "cell_type": "code",
   "execution_count": 16,
   "metadata": {
    "colab": {
     "base_uri": "https://localhost:8080/"
    },
    "id": "SqMmbvCmK0j2",
    "outputId": "cd355354-3578-4286-ef2e-e977ea70c4e7"
   },
   "outputs": [
    {
     "name": "stdout",
     "output_type": "stream",
     "text": [
      "\n",
      "--- Initializing and Training Models ---\n",
      "Using device: cuda\n",
      "torch.Size([10644, 19, 1425])\n"
     ]
    }
   ],
   "source": [
    "# --- Step 5: Initialize and Train Models ---\n",
    "print(\"\\n--- Initializing and Training Models ---\")\n",
    "device = torch.device(\"cuda\" if torch.cuda.is_available() else \"cpu\")\n",
    "print(f\"Using device: {device}\")\n",
    "\n",
    "# Get actual dimensions from data tensors\n",
    "actual_n_samples, actual_n_channels, actual_n_timesteps = X_train_tensor.shape\n",
    "print(X_train_tensor.shape)\n"
   ]
  },
  {
   "cell_type": "markdown",
   "metadata": {
    "id": "JomaMFtqK0j3"
   },
   "source": [
    "## Running Model 2"
   ]
  },
  {
   "cell_type": "code",
   "execution_count": 17,
   "metadata": {
    "id": "aN1FYX7ptlUv"
   },
   "outputs": [],
   "source": [
    "def initialize_weights(model):\n",
    "    for name, param in model.named_parameters():\n",
    "        if 'weight' in name:\n",
    "            if isinstance(param, nn.Conv1d):\n",
    "                # Apply He (Kaiming) initialization for convolutional layers\n",
    "                init.kaiming_normal_(param, mode='fan_out', nonlinearity='relu')\n",
    "            elif isinstance(param, nn.Linear):\n",
    "                # Apply Xavier initialization for linear layers\n",
    "                init.xavier_normal_(param)\n",
    "        elif 'bias' in name:\n",
    "            # Initialize biases to zero or a small positive value\n",
    "            init.zeros_(param)  # or init.constant_(param, 0.1) for small positive bias\n"
   ]
  },
  {
   "cell_type": "code",
   "execution_count": 18,
   "metadata": {
    "id": "lvdFlz3rZTwD"
   },
   "outputs": [],
   "source": [
    "def init_weights(m):\n",
    "    if isinstance(m, nn.Conv1d):\n",
    "        nn.init.kaiming_normal_(m.weight, mode='fan_out', nonlinearity='relu')\n",
    "    elif isinstance(m, nn.Linear):\n",
    "        nn.init.xavier_normal_(m.weight)\n",
    "\n"
   ]
  },
  {
   "cell_type": "code",
   "execution_count": null,
   "metadata": {
    "colab": {
     "base_uri": "https://localhost:8080/"
    },
    "id": "FwEoQhJVL4L-",
    "outputId": "a10b9fd8-7b6e-4b5b-9d2a-711ac7212411"
   },
   "outputs": [],
   "source": [
    "model2 = EEGConvNeXt_1D(n_channels=actual_n_channels,\n",
    "                                n_timesteps=actual_n_timesteps,\n",
    "                                depths = [2, 2, 4, 2],  # Increase depth\n",
    "                                dims = [128, 256, 512, 1024],  # Increase dimensions\n",
    "                                num_classes=num_classes_actual).to(device)\n",
    "print(model2.parameters)\n",
    "\n",
    "model2.apply(init_weights)\n"
   ]
  },
  {
   "cell_type": "code",
   "execution_count": 20,
   "metadata": {
    "id": "lWpo_1wpuS7W"
   },
   "outputs": [],
   "source": [
    "num_epochs = 10"
   ]
  },
  {
   "cell_type": "code",
   "execution_count": null,
   "metadata": {
    "colab": {
     "base_uri": "https://localhost:8080/"
    },
    "id": "I9meSwbmK0j3",
    "outputId": "5c2292c9-8850-4373-c3ef-811a8491623e"
   },
   "outputs": [],
   "source": [
    "\n",
    "# --- Train Model 2: EEGConvNeXt_1D ---\n",
    "if len(train_loader) > 0:\n",
    "    try:\n",
    "        print(\"\\nInitializing Model 2: EEGConvNeXt_1D...\")\n",
    "        model2 = EEGConvNeXt_1D(n_channels=actual_n_channels,\n",
    "                                n_timesteps=actual_n_timesteps,\n",
    "                                num_classes=num_classes_actual).to(device)\n",
    "        # criterion2 = nn.CrossEntropyLoss()\n",
    "        # Set class weights (adjust these based on your dataset)\n",
    "        class_weights = torch.tensor([1.0, 1.0, 1.0]).cuda()  # Example of class weights for imbalanced data\n",
    "\n",
    "        # Define criterion with class weights\n",
    "        criterion2 = nn.CrossEntropyLoss(weight=class_weights)\n",
    "\n",
    "\n",
    "        optimizer2 = optim.Adam(model2.parameters(), lr=learning_rate)\n",
    "        train_model(model2, train_loader, val_loader, criterion2, optimizer2, num_epochs, device)\n",
    "        # Add evaluation calls here if needed\n",
    "    except NameError:\n",
    "        print(\"Error: EEGConvNeXt_1D or PermuteLayerNorm class not defined.\")\n",
    "    except Exception as e:\n",
    "        print(f\"An error occurred during Model 2 training: {e}\")\n",
    "else:\n",
    "    print(\"Skipping Model 2 training: Train loader is empty.\")\n"
   ]
  },
  {
   "cell_type": "code",
   "execution_count": 22,
   "metadata": {
    "id": "MvLPxOskL4L-"
   },
   "outputs": [],
   "source": [
    "\n",
    "from sklearn.metrics import classification_report, accuracy_score, roc_curve, auc\n",
    "from sklearn.preprocessing import label_binarize\n",
    "import pandas as pd\n",
    "import matplotlib.pyplot as plt\n",
    "import numpy as np\n",
    "import torch\n",
    "\n",
    "def evaluate_and_compare_models(model, name, data_loader, device, num_classes):\n",
    "    \"\"\"\n",
    "    Evaluate multiple trained models on the same dataset and plot ROC curves.\n",
    "\n",
    "    Args:\n",
    "        models (list): List of trained PyTorch models.\n",
    "        model_names (list): List of model names for labeling.\n",
    "        data_loader (DataLoader): DataLoader for validation or test set.\n",
    "        device (torch.device): Device for model execution.\n",
    "        num_classes (int): Total number of output classes.\n",
    "\n",
    "    Returns:\n",
    "        reports (dict): A dictionary of classification report DataFrames per model.\n",
    "    \"\"\"\n",
    "    reports = {}\n",
    "    plt.figure(figsize=(8, 6))\n",
    "\n",
    "\n",
    "\n",
    "\n",
    "    model.eval()\n",
    "    y_true, y_pred, y_probs = [], [], []\n",
    "\n",
    "    with torch.no_grad():\n",
    "        for X_batch, y_batch in data_loader:\n",
    "            X_batch = X_batch.to(device)\n",
    "            outputs = model(X_batch)\n",
    "            probs = torch.softmax(outputs, dim=1).cpu().numpy()\n",
    "            y_probs.extend(probs)\n",
    "            y_true.extend(y_batch.numpy())\n",
    "            _, predicted = torch.max(outputs, 1)\n",
    "            y_pred.extend(predicted.cpu().numpy())\n",
    "\n",
    "    # Print Accuracy\n",
    "    acc = accuracy_score(y_true, y_pred)\n",
    "    print(f\"\\n=== {name} ===\")\n",
    "    print(f\"Accuracy: {acc*100:.2f}%\")\n",
    "\n",
    "    # Print classification report\n",
    "    report = classification_report(y_true, y_pred, output_dict=True, zero_division=0)\n",
    "    report_df = pd.DataFrame(report).transpose()\n",
    "    display(report_df[[\"precision\", \"recall\", \"f1-score\", \"support\"]])\n",
    "    reports[name] = report_df\n",
    "\n",
    "    # Compute ROC Curve (Micro-average for multiclass)\n",
    "    y_true_bin = label_binarize(y_true, classes=list(range(num_classes)))\n",
    "    y_probs = np.array(y_probs)\n",
    "\n",
    "    fpr, tpr, _ = roc_curve(y_true_bin.ravel(), y_probs.ravel())\n",
    "    roc_auc = auc(fpr, tpr)\n",
    "\n",
    "    plt.plot(fpr, tpr, label=f\"{name} (AUC = {roc_auc:.2f})\")\n",
    "\n",
    "    # ROC Plot settings\n",
    "    plt.plot([0, 1], [0, 1], 'k--', label='Random Classifier')\n",
    "    plt.title(\"Micro-Averaged ROC Curves\")\n",
    "    plt.xlabel(\"False Positive Rate\")\n",
    "    plt.ylabel(\"True Positive Rate\")\n",
    "    plt.legend(loc=\"lower right\")\n",
    "    plt.grid(True)\n",
    "    plt.tight_layout()\n",
    "    plt.show()\n",
    "\n",
    "    return reports\n"
   ]
  },
  {
   "cell_type": "code",
   "execution_count": 23,
   "metadata": {
    "colab": {
     "base_uri": "https://localhost:8080/",
     "height": 881
    },
    "id": "y8ZUCqXmK0j4",
    "outputId": "09fb48d0-f16a-4a0d-aa39-9ae04dd6e318"
   },
   "outputs": [
    {
     "name": "stdout",
     "output_type": "stream",
     "text": [
      "\n",
      "=== model 2 ===\n",
      "Accuracy: 34.08%\n"
     ]
    },
    {
     "data": {
      "text/html": [
       "<div>\n",
       "<style scoped>\n",
       "    .dataframe tbody tr th:only-of-type {\n",
       "        vertical-align: middle;\n",
       "    }\n",
       "\n",
       "    .dataframe tbody tr th {\n",
       "        vertical-align: top;\n",
       "    }\n",
       "\n",
       "    .dataframe thead th {\n",
       "        text-align: right;\n",
       "    }\n",
       "</style>\n",
       "<table border=\"1\" class=\"dataframe\">\n",
       "  <thead>\n",
       "    <tr style=\"text-align: right;\">\n",
       "      <th></th>\n",
       "      <th>precision</th>\n",
       "      <th>recall</th>\n",
       "      <th>f1-score</th>\n",
       "      <th>support</th>\n",
       "    </tr>\n",
       "  </thead>\n",
       "  <tbody>\n",
       "    <tr>\n",
       "      <th>0</th>\n",
       "      <td>0.500000</td>\n",
       "      <td>0.141732</td>\n",
       "      <td>0.220859</td>\n",
       "      <td>381.000000</td>\n",
       "    </tr>\n",
       "    <tr>\n",
       "      <th>1</th>\n",
       "      <td>0.318987</td>\n",
       "      <td>0.965517</td>\n",
       "      <td>0.479543</td>\n",
       "      <td>261.000000</td>\n",
       "    </tr>\n",
       "    <tr>\n",
       "      <th>2</th>\n",
       "      <td>0.000000</td>\n",
       "      <td>0.000000</td>\n",
       "      <td>0.000000</td>\n",
       "      <td>256.000000</td>\n",
       "    </tr>\n",
       "    <tr>\n",
       "      <th>accuracy</th>\n",
       "      <td>0.340757</td>\n",
       "      <td>0.340757</td>\n",
       "      <td>0.340757</td>\n",
       "      <td>0.340757</td>\n",
       "    </tr>\n",
       "    <tr>\n",
       "      <th>macro avg</th>\n",
       "      <td>0.272996</td>\n",
       "      <td>0.369083</td>\n",
       "      <td>0.233467</td>\n",
       "      <td>898.000000</td>\n",
       "    </tr>\n",
       "    <tr>\n",
       "      <th>weighted avg</th>\n",
       "      <td>0.304850</td>\n",
       "      <td>0.340757</td>\n",
       "      <td>0.233082</td>\n",
       "      <td>898.000000</td>\n",
       "    </tr>\n",
       "  </tbody>\n",
       "</table>\n",
       "</div>"
      ],
      "text/plain": [
       "              precision    recall  f1-score     support\n",
       "0              0.500000  0.141732  0.220859  381.000000\n",
       "1              0.318987  0.965517  0.479543  261.000000\n",
       "2              0.000000  0.000000  0.000000  256.000000\n",
       "accuracy       0.340757  0.340757  0.340757    0.340757\n",
       "macro avg      0.272996  0.369083  0.233467  898.000000\n",
       "weighted avg   0.304850  0.340757  0.233082  898.000000"
      ]
     },
     "metadata": {},
     "output_type": "display_data"
    },
    {
     "data": {
      "image/png": "[encoded data removed]",
      "text/plain": [
       "<Figure size 800x600 with 1 Axes>"
      ]
     },
     "metadata": {},
     "output_type": "display_data"
    }
   ],
   "source": [
    "data_loader_to_use =  test_loader\n",
    "if data_loader_to_use is None:\n",
    "    raise ValueError(\"No data available for evaluation.\")\n",
    "\n",
    "all_reports = evaluate_and_compare_models(\n",
    "    model=model2,\n",
    "    name=\"model 2\",\n",
    "    data_loader=data_loader_to_use,\n",
    "    device=device,\n",
    "    num_classes=3\n",
    ")\n"
   ]
  },
  {
   "cell_type": "code",
   "execution_count": 25,
   "metadata": {
    "id": "AS6gQfqbTAEL"
   },
   "outputs": [],
   "source": [
    "def objective(trial):\n",
    "    # ─── Hyperparameter suggestions ───\n",
    "    lr           = trial.suggest_loguniform(\"learning_rate\",   1e-5, 1e-2)\n",
    "    weight_decay = trial.suggest_loguniform(\"weight_decay\",   1e-6, 1e-2)\n",
    "    dropout      = trial.suggest_float(\"dropout_rate\",        0.2, 0.7)\n",
    "    base_dim     = trial.suggest_categorical(\"base_dim\",   [64, 96, 128])\n",
    "    n_blocks     = trial.suggest_int(\"n_blocks\",             1, 3)\n",
    "    batch_size   = trial.suggest_categorical(\"batch_size\", [8, 16, 32])\n",
    "\n",
    "    # ─── Build model with sampled capacity + dropout ───\n",
    "    model = EEGConvNeXt_1D(\n",
    "        n_channels=actual_n_channels,\n",
    "        n_timesteps=actual_n_timesteps,\n",
    "        num_classes=num_classes_actual,\n",
    "        depths=[n_blocks, n_blocks, n_blocks*2, n_blocks],\n",
    "        dims=[base_dim, base_dim*2, base_dim*4, base_dim*8],\n",
    "        dropout_rate=dropout\n",
    "    ).to(device)\n",
    "\n",
    "    model.apply(init_weights)\n",
    "\n",
    "\n",
    "    # ─── Create loaders with sampled batch size ───\n",
    "    train_loader = DataLoader(\n",
    "        TensorDataset(X_train_tensor, y_train_tensor),\n",
    "        batch_size=batch_size, shuffle=True\n",
    "    )\n",
    "    val_loader = DataLoader(\n",
    "        TensorDataset(X_val_tensor, y_val_tensor),\n",
    "        batch_size=batch_size, shuffle=False\n",
    "    )\n",
    "\n",
    "    # ─── Optimizer + weight decay ───\n",
    "    optimizer = optim.Adam(\n",
    "        model.parameters(),\n",
    "        lr=lr,\n",
    "        weight_decay=weight_decay\n",
    "    )\n",
    "    criterion = nn.CrossEntropyLoss(weight=class_weights.to(device))\n",
    "\n",
    "    # ─── Quick training ───\n",
    "    train_model(model, train_loader, val_loader, criterion, optimizer,\n",
    "                num_epochs=20, device=device)\n",
    "\n",
    "    # ─── Validation accuracy ───\n",
    "    model.eval()\n",
    "    correct = total = 0\n",
    "    with torch.no_grad():\n",
    "        for Xv, yv in val_loader:\n",
    "            Xv, yv = Xv.to(device), yv.to(device)\n",
    "            preds = model(Xv).argmax(dim=1)\n",
    "            correct += (preds == yv).sum().item()\n",
    "            total   += yv.size(0)\n",
    "    return correct / total\n"
   ]
  },
  {
   "cell_type": "code",
   "execution_count": null,
   "metadata": {
    "colab": {
     "base_uri": "https://localhost:8080/"
    },
    "id": "GhpzgRCFU0cf",
    "outputId": "aeaee031-331e-4a6e-d673-e74e0acec0ee"
   },
   "outputs": [],
   "source": [
    "# Optionally use a pruner to stop bad trials early:\n",
    "pruner = optuna.pruners.MedianPruner()\n",
    "\n",
    "study = optuna.create_study(\n",
    "    direction=\"maximize\",\n",
    "    study_name=\"eeg_hpo\",\n",
    "    pruner=pruner\n",
    ")\n",
    "\n",
    "study.optimize(objective, n_trials=30, timeout=9600)  # e.g. 30 trials or 1h max\n",
    "\n",
    "print(f\"Best Val Acc: {study.best_value:.4f}\")\n",
    "print(\"Best hyperparams:\")\n",
    "for key, val in study.best_params.items():\n",
    "    print(f\"  {key}: {val}\")\n"
   ]
  },
  {
   "cell_type": "code",
   "execution_count": null,
   "metadata": {
    "colab": {
     "base_uri": "https://localhost:8080/",
     "height": 1000
    },
    "id": "9vwCKoFkU5X-",
    "outputId": "04c9b3af-fcc2-4d83-a8b2-1dd41622b842"
   },
   "outputs": [],
   "source": [
    "best = study.best_params\n",
    "\n",
    "final_model = EEGConvNeXt_1D(\n",
    "    n_channels=actual_n_channels,\n",
    "    n_timesteps=actual_n_timesteps,\n",
    "    num_classes=num_classes_actual,\n",
    "    depths=[best[\"n_blocks\"]]*2 + [best[\"n_blocks\"]*2]*1 + [best[\"n_blocks\"]],  # or however you want to map them\n",
    "    dims=[best[\"base_dim\"], best[\"base_dim\"]*2, best[\"base_dim\"]*4, best[\"base_dim\"]*8],\n",
    "    dropout_rate=best[\"dropout_rate\"]\n",
    ").to(device)\n",
    "\n",
    "opt_final = optim.Adam(final_model.parameters(), lr=best[\"learning_rate\"])\n",
    "crit_final = nn.CrossEntropyLoss(weight=class_weights.to(device))\n",
    "\n",
    "# Train fully\n",
    "train_model(final_model, train_loader, val_loader, crit_final, opt_final, num_epochs=50, device=device)\n",
    "\n",
    "# Evaluate on test set as before...\n",
    "evaluate_and_compare_models(final_model, \"Final Model\", test_loader, device, num_classes_actual)\n"
   ]
  }
 ],
 "metadata": {
  "accelerator": "GPU",
  "colab": {
   "gpuType": "T4",
   "provenance": []
  },
  "kernelspec": {
   "display_name": "Python 3 (ipykernel)",
   "language": "python",
   "name": "python3"
  },
  "language_info": {
   "codemirror_mode": {
    "name": "ipython",
    "version": 3
   },
   "file_extension": ".py",
   "mimetype": "text/x-python",
   "name": "python",
   "nbconvert_exporter": "python",
   "pygments_lexer": "ipython3",
   "version": "3.9.18"
  }
 },
 "nbformat": 4,
 "nbformat_minor": 4
}
